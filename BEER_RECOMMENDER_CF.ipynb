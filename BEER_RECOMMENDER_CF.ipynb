{
 "cells": [
  {
   "cell_type": "markdown",
   "metadata": {},
   "source": [
    "#### Beer Recommender System using Collaborative Filtering (item-item similarity)\n",
    "\n",
    "The **goal** of this project was to create a recommender system that will take a beer name as an input and return the top N recommendations based on item similiarity. Content based recommendations was explored in a different notebook but the goal was to return recommendations that are varied and not just more of the same (which is what the content-base recommender would do). For example, if I like IPA beers I want to also explore non-IPA beers that may have similar charteristics but are different enough to be categorized as a different class of beer. \n",
    "  \n",
    "The Data:\n",
    "* 56 subcategories of beer\n",
    "* 4964 unique beers\n",
    "* ~88K unique users\n",
    "* ~1.4M user-review pairings\n",
    "\n",
    "Data was scraped from a popular beer review website: https://www.beeradvocate.com/\n",
    "  \n",
    "\n",
    "Main Tools:   \n",
    "Surprise Library - http://surpriselib.com/  \n",
    "scikitleran: https://scikit-learn.org/stable/"
   ]
  },
  {
   "cell_type": "markdown",
   "metadata": {},
   "source": [
    "NOTE: some of the below functions and code descriptions were taken directly from the Surprise Library Documentation\n",
    "\n",
    "---"
   ]
  },
  {
   "cell_type": "code",
   "execution_count": 203,
   "metadata": {},
   "outputs": [],
   "source": [
    "# import libraries\n",
    "\n",
    "import sys\n",
    "import pandas as pd\n",
    "import numpy as np\n",
    "import re\n",
    "import csv\n",
    "import unicodedata\n",
    "import sys\n",
    "import time\n",
    "import pickle\n",
    "import copy\n",
    "\n",
    "from collections import defaultdict\n",
    "\n",
    "from surprise import SVD, evaluate, KNNBasic, NMF\n",
    "from surprise import Dataset\n",
    "from surprise import Reader\n",
    "from surprise import accuracy\n",
    "from surprise.model_selection import KFold\n",
    "from surprise.model_selection import cross_validate\n",
    "from surprise.model_selection import train_test_split\n",
    "from surprise.model_selection import GridSearchCV\n",
    "from surprise import KNNBaseline, SVD\n",
    "from surprise import get_dataset_dir\n",
    "from surprise.prediction_algorithms import matrix_factorization\n",
    "\n",
    "from sklearn.neighbors import KNeighborsClassifier\n",
    "from sklearn import metrics\n",
    "from sklearn.cluster import KMeans\n",
    "from sklearn.utils import shuffle\n",
    "from sklearn.metrics import pairwise_distances\n",
    "from sklearn.metrics import silhouette_score\n",
    "from sklearn.preprocessing import scale\n",
    "from sklearn.model_selection import train_test_split, RandomizedSearchCV, GridSearchCV\n",
    "from sklearn.model_selection import KFold\n",
    "from sklearn.preprocessing import StandardScaler\n",
    "from sklearn.preprocessing import Normalizer\n",
    "from sklearn.decomposition import TruncatedSVD\n",
    "\n",
    "from scipy import spatial\n",
    "\n",
    "from tqdm import tqdm\n",
    "import multiprocessing as multi\n",
    "\n",
    "import matplotlib.pyplot as plt\n",
    "import seaborn as sns\n",
    "% matplotlib inline\n",
    "\n",
    "import warnings\n",
    "warnings.filterwarnings('ignore', category = RuntimeWarning)"
   ]
  },
  {
   "cell_type": "markdown",
   "metadata": {},
   "source": [
    "---\n",
    "Read in pickled files\n",
    "\n",
    "Beer and User Review pairings were stored on a MONGODB database hosted on AWS. They were extracted and store across multiple files"
   ]
  },
  {
   "cell_type": "code",
   "execution_count": 99,
   "metadata": {},
   "outputs": [],
   "source": [
    "files_to_readin = ['5c08e65ebd53771808aecfd0.pkl',\n",
    "                  '5c08e65ebd53771808aecdf1.pkl',\n",
    "                  '5c08810bbd5377078577a01c.pkl',\n",
    "                  '5c08e65dbd53771808aecc12.pkl',\n",
    "                  '5c08810bbd53770785779e3d.pkl',\n",
    "                  '5c09a1e2bd53771d03b23e84.pkl',\n",
    "                  '5c077134bd537720ae8a3a3f.pkl',\n",
    "                  '5c097527bd53771d03b23ca6.pkl']\n",
    "\n",
    "t_cols = ['beer_name', 'user', 'rating']\n",
    "user_rate_combine_df = pd.DataFrame(columns=t_cols)\n",
    "\n",
    "for i in files_to_readin:\n",
    "    with open(i, 'rb') as f:\n",
    "        user_rate_df = pickle.load(f)\n",
    "        f.close()\n",
    "    user_rate_combine_df = pd.concat([user_rate_combine_df,user_rate_df])\n",
    "    \n",
    "\n",
    "# load in pickled object\n",
    "with open('user_rate_df.pkl', 'rb') as f:\n",
    "    user_rate_df = pickle.load(f)\n",
    "    f.close()\n",
    "    \n",
    "with open('all_wheat_user_reviews_df_dict.pkl', 'rb') as f:\n",
    "    all_wheat_user_reviews_df = pickle.load(f)\n",
    "    f.close()"
   ]
  },
  {
   "cell_type": "code",
   "execution_count": 100,
   "metadata": {},
   "outputs": [],
   "source": [
    "# combine everything together\n",
    "merged_df = pd.concat([user_rate_df, all_wheat_user_reviews_df,user_rate_combine_df])\n",
    "\n",
    "# change ratings to float\n",
    "merged_df.rating=merged_df.rating.astype(float)"
   ]
  },
  {
   "cell_type": "markdown",
   "metadata": {},
   "source": [
    "---\n",
    "\n",
    "A little bit of cleaning "
   ]
  },
  {
   "cell_type": "code",
   "execution_count": 101,
   "metadata": {},
   "outputs": [],
   "source": [
    "def remove_space(s):\n",
    "    \"\"\"\n",
    "    to remove space at end of beer name\n",
    "    \"\"\"\n",
    "    l = list(s)\n",
    "    l = l[:-1]\n",
    "    return ''.join(l)"
   ]
  },
  {
   "cell_type": "code",
   "execution_count": 102,
   "metadata": {},
   "outputs": [],
   "source": [
    "merged_df.beer_name = merged_df.beer_name.apply(lambda x: remove_space(x))"
   ]
  },
  {
   "cell_type": "markdown",
   "metadata": {},
   "source": [
    "---\n",
    "\n",
    "#### EDA"
   ]
  },
  {
   "cell_type": "code",
   "execution_count": 103,
   "metadata": {},
   "outputs": [
    {
     "data": {
      "text/html": [
       "<div>\n",
       "<style scoped>\n",
       "    .dataframe tbody tr th:only-of-type {\n",
       "        vertical-align: middle;\n",
       "    }\n",
       "\n",
       "    .dataframe tbody tr th {\n",
       "        vertical-align: top;\n",
       "    }\n",
       "\n",
       "    .dataframe thead th {\n",
       "        text-align: right;\n",
       "    }\n",
       "</style>\n",
       "<table border=\"1\" class=\"dataframe\">\n",
       "  <thead>\n",
       "    <tr style=\"text-align: right;\">\n",
       "      <th></th>\n",
       "      <th>beer_name</th>\n",
       "      <th>user</th>\n",
       "      <th>rating</th>\n",
       "    </tr>\n",
       "  </thead>\n",
       "  <tbody>\n",
       "    <tr>\n",
       "      <th>0</th>\n",
       "      <td>Sumatra Mountain Brown (Barrel-Aged)</td>\n",
       "      <td>rabbott2</td>\n",
       "      <td>3.50</td>\n",
       "    </tr>\n",
       "    <tr>\n",
       "      <th>1</th>\n",
       "      <td>Sumatra Mountain Brown (Barrel-Aged)</td>\n",
       "      <td>jhavs</td>\n",
       "      <td>4.04</td>\n",
       "    </tr>\n",
       "    <tr>\n",
       "      <th>2</th>\n",
       "      <td>Sumatra Mountain Brown (Barrel-Aged)</td>\n",
       "      <td>lupercmda</td>\n",
       "      <td>4.50</td>\n",
       "    </tr>\n",
       "    <tr>\n",
       "      <th>3</th>\n",
       "      <td>Sumatra Mountain Brown (Barrel-Aged)</td>\n",
       "      <td>Dicers</td>\n",
       "      <td>4.06</td>\n",
       "    </tr>\n",
       "    <tr>\n",
       "      <th>4</th>\n",
       "      <td>Sumatra Mountain Brown (Barrel-Aged)</td>\n",
       "      <td>RAlmeida77</td>\n",
       "      <td>4.49</td>\n",
       "    </tr>\n",
       "  </tbody>\n",
       "</table>\n",
       "</div>"
      ],
      "text/plain": [
       "                              beer_name        user  rating\n",
       "0  Sumatra Mountain Brown (Barrel-Aged)    rabbott2    3.50\n",
       "1  Sumatra Mountain Brown (Barrel-Aged)       jhavs    4.04\n",
       "2  Sumatra Mountain Brown (Barrel-Aged)   lupercmda    4.50\n",
       "3  Sumatra Mountain Brown (Barrel-Aged)      Dicers    4.06\n",
       "4  Sumatra Mountain Brown (Barrel-Aged)  RAlmeida77    4.49"
      ]
     },
     "execution_count": 103,
     "metadata": {},
     "output_type": "execute_result"
    }
   ],
   "source": [
    "merged_df.head()"
   ]
  },
  {
   "cell_type": "code",
   "execution_count": 133,
   "metadata": {},
   "outputs": [
    {
     "name": "stdout",
     "output_type": "stream",
     "text": [
      "<class 'pandas.core.frame.DataFrame'>\n",
      "Int64Index: 1427301 entries, 0 to 188328\n",
      "Data columns (total 3 columns):\n",
      "beer_name    1427301 non-null object\n",
      "user         1427301 non-null object\n",
      "rating       1427301 non-null float64\n",
      "dtypes: float64(1), object(2)\n",
      "memory usage: 43.6+ MB\n"
     ]
    }
   ],
   "source": [
    "merged_df.info()"
   ]
  },
  {
   "cell_type": "code",
   "execution_count": 118,
   "metadata": {},
   "outputs": [
    {
     "data": {
      "text/html": [
       "<div>\n",
       "<style scoped>\n",
       "    .dataframe tbody tr th:only-of-type {\n",
       "        vertical-align: middle;\n",
       "    }\n",
       "\n",
       "    .dataframe tbody tr th {\n",
       "        vertical-align: top;\n",
       "    }\n",
       "\n",
       "    .dataframe thead th {\n",
       "        text-align: right;\n",
       "    }\n",
       "</style>\n",
       "<table border=\"1\" class=\"dataframe\">\n",
       "  <thead>\n",
       "    <tr style=\"text-align: right;\">\n",
       "      <th></th>\n",
       "      <th>rating</th>\n",
       "    </tr>\n",
       "  </thead>\n",
       "  <tbody>\n",
       "    <tr>\n",
       "      <th>count</th>\n",
       "      <td>1.427301e+06</td>\n",
       "    </tr>\n",
       "    <tr>\n",
       "      <th>mean</th>\n",
       "      <td>4.144708e+00</td>\n",
       "    </tr>\n",
       "    <tr>\n",
       "      <th>std</th>\n",
       "      <td>5.686697e-01</td>\n",
       "    </tr>\n",
       "    <tr>\n",
       "      <th>min</th>\n",
       "      <td>1.000000e+00</td>\n",
       "    </tr>\n",
       "    <tr>\n",
       "      <th>25%</th>\n",
       "      <td>3.890000e+00</td>\n",
       "    </tr>\n",
       "    <tr>\n",
       "      <th>50%</th>\n",
       "      <td>4.250000e+00</td>\n",
       "    </tr>\n",
       "    <tr>\n",
       "      <th>75%</th>\n",
       "      <td>4.500000e+00</td>\n",
       "    </tr>\n",
       "    <tr>\n",
       "      <th>max</th>\n",
       "      <td>5.000000e+00</td>\n",
       "    </tr>\n",
       "  </tbody>\n",
       "</table>\n",
       "</div>"
      ],
      "text/plain": [
       "             rating\n",
       "count  1.427301e+06\n",
       "mean   4.144708e+00\n",
       "std    5.686697e-01\n",
       "min    1.000000e+00\n",
       "25%    3.890000e+00\n",
       "50%    4.250000e+00\n",
       "75%    4.500000e+00\n",
       "max    5.000000e+00"
      ]
     },
     "execution_count": 118,
     "metadata": {},
     "output_type": "execute_result"
    }
   ],
   "source": [
    "merged_df.describe()"
   ]
  },
  {
   "cell_type": "markdown",
   "metadata": {},
   "source": [
    "The average rating for these beers are about 4.14 out of 5. This makes sense since these beers were scraped from \"top 100\" lists across 56 subcategories."
   ]
  },
  {
   "cell_type": "code",
   "execution_count": 119,
   "metadata": {},
   "outputs": [
    {
     "data": {
      "image/png": "[encoded data removed]",
      "text/plain": [
       "<Figure size 432x288 with 1 Axes>"
      ]
     },
     "metadata": {},
     "output_type": "display_data"
    }
   ],
   "source": [
    "# Histogram of review counts\n",
    "data= merged_df.beer_name.value_counts()\n",
    "bins = 20\n",
    "plt.hist(data,bins=bins,orientation='vertical')\n",
    "plt.xlabel(\"Review Counts\")\n",
    "plt.ylabel(\"No. Beers\")\n",
    "plt.title(\"Histogram of Review Counts\")\n",
    "plt.show()"
   ]
  },
  {
   "cell_type": "code",
   "execution_count": 277,
   "metadata": {},
   "outputs": [],
   "source": [
    "merged_df.groupby('beer_name').count().sort_values(by='user', ascending =False).quantile(np.arange(0,1,.05))"
   ]
  },
  {
   "cell_type": "markdown",
   "metadata": {},
   "source": [
    "About 80% of the beers have less than 200 ratings "
   ]
  },
  {
   "cell_type": "code",
   "execution_count": 278,
   "metadata": {},
   "outputs": [],
   "source": [
    "# quantiles of the average ratings\n",
    "merged_df.groupby('beer_name').mean().sort_values(by='rating', ascending =False).quantile(np.arange(0,1,.05))"
   ]
  },
  {
   "cell_type": "code",
   "execution_count": 130,
   "metadata": {},
   "outputs": [
    {
     "name": "stdout",
     "output_type": "stream",
     "text": [
      "518 beers have a average rating less than 3.5\n",
      "A 3.5 avg rating puts the beer near the bottom 10%-tile\n"
     ]
    }
   ],
   "source": [
    "avg_rating = merged_df.groupby('beer_name').mean()\n",
    "subpar = len(avg_rating[avg_rating['rating']<3.5])\n",
    "print('{} beers have a average rating less than 3.5'.format(subpar))\n",
    "print('A 3.5 avg rating puts the beer near the bottom 10%-tile')"
   ]
  },
  {
   "cell_type": "markdown",
   "metadata": {},
   "source": [
    "  \n",
    "  "
   ]
  },
  {
   "cell_type": "code",
   "execution_count": 123,
   "metadata": {},
   "outputs": [],
   "source": [
    "# distribution of the bottom 10% in average rating, and number of ratings\n",
    "bottom_10_rating = merged_df.groupby('beer_name').mean().quantile(np.arange(0,.11,.01))\n",
    "bottom_10_counts = merged_df.groupby('beer_name').count().quantile(np.arange(0,.11,.01))"
   ]
  },
  {
   "cell_type": "code",
   "execution_count": 276,
   "metadata": {},
   "outputs": [],
   "source": [
    "bottom_10_rating"
   ]
  },
  {
   "cell_type": "code",
   "execution_count": 275,
   "metadata": {},
   "outputs": [],
   "source": [
    "bottom_10_counts"
   ]
  },
  {
   "cell_type": "markdown",
   "metadata": {},
   "source": [
    "The bottom 10%-tile in terms of avg ratings are anywhere from 1.41 to 3.48  \n",
    "The bottom 10%-tile in terms of number of ratings are anywhere from 9 to 12"
   ]
  },
  {
   "cell_type": "markdown",
   "metadata": {},
   "source": [
    "---\n",
    "\n",
    "Now lets take a look at the users"
   ]
  },
  {
   "cell_type": "code",
   "execution_count": 167,
   "metadata": {},
   "outputs": [
    {
     "data": {
      "image/png": "[encoded data removed]",
      "text/plain": [
       "<Figure size 432x288 with 1 Axes>"
      ]
     },
     "metadata": {},
     "output_type": "display_data"
    }
   ],
   "source": [
    "data2= merged_df.user.value_counts()\n",
    "bins = 100\n",
    "plt.hist(data2,bins=bins,orientation='vertical')\n",
    "plt.xlabel(\"User Counts\")\n",
    "plt.xlim(0,300)\n",
    "plt.ylabel(\"No. Beers\")\n",
    "plt.title(\"Histogram of User Counts\")\n",
    "plt.show()"
   ]
  },
  {
   "cell_type": "code",
   "execution_count": 155,
   "metadata": {},
   "outputs": [],
   "source": [
    "users = merged_df.groupby('user').count()"
   ]
  },
  {
   "cell_type": "code",
   "execution_count": 166,
   "metadata": {},
   "outputs": [
    {
     "name": "stdout",
     "output_type": "stream",
     "text": [
      "31898 users rated 1 or less beers\n",
      "44384 users rated 2 or less beers\n",
      "51242 users rated 3 or less beers\n",
      "55753 users rated 4 or less beers\n",
      "59126 users rated 5 or less beers\n",
      "67935 users rated 10 or less beers\n",
      "72093 users rated 15 or less beers\n",
      "74714 users rated 20 or less beers\n"
     ]
    }
   ],
   "source": [
    "counts = [1,2,3,4,5,10,15,20]\n",
    "for ct in counts:\n",
    "    num_users = users[users['rating'] <= ct].count()[0]\n",
    "    print('{} users rated {} or less beers'.format(num_users,ct))"
   ]
  },
  {
   "cell_type": "code",
   "execution_count": 165,
   "metadata": {},
   "outputs": [
    {
     "name": "stdout",
     "output_type": "stream",
     "text": [
      "Total number of unique users: 88600\n"
     ]
    }
   ],
   "source": [
    "print('Total number of unique users: {}'.format(len(merged_df.user.unique())))"
   ]
  },
  {
   "cell_type": "markdown",
   "metadata": {},
   "source": [
    "The vast majority of the users rated only a few beers, with more than half of the users having rated less than 5 beers."
   ]
  },
  {
   "cell_type": "markdown",
   "metadata": {},
   "source": [
    "---"
   ]
  },
  {
   "cell_type": "markdown",
   "metadata": {},
   "source": [
    "To improve results of the recommender, the beers in the bottom 10 percent in terms of avg rating and review counts will be removed. This will remove about 20% of the beers, bringing the unique beers count from 4964 to 3960.\n",
    "\n",
    "NOTE:\n",
    "When using the Surprise library, the \"shringkage factor\" (for imputing missing ratings) takes into account the number of reviews for each item/user. It punishes the items/users with very little reviews. Therefore this step is not critical."
   ]
  },
  {
   "cell_type": "code",
   "execution_count": 257,
   "metadata": {},
   "outputs": [],
   "source": [
    "subpar_beers = avg_rating[avg_rating['rating']<3.5]\n",
    "subpar_beers = list(subpar_beers.index)"
   ]
  },
  {
   "cell_type": "code",
   "execution_count": 135,
   "metadata": {},
   "outputs": [],
   "source": [
    "rating_ct = merged_df.groupby('beer_name').count()\n",
    "low_rating = rating_ct[rating_ct['rating']<13]\n",
    "low_rating = list(low_rating.index)"
   ]
  },
  {
   "cell_type": "code",
   "execution_count": 138,
   "metadata": {},
   "outputs": [
    {
     "name": "stdout",
     "output_type": "stream",
     "text": [
      "Number of beers in bottom 10% of avg rating: 518\n",
      "Number of beers in bottom 10% of review counts: 542\n",
      "Number of beers in both of these categories: 56\n"
     ]
    }
   ],
   "source": [
    "a = set(subpar_beers)\n",
    "b = set(low_rating)\n",
    "c = a.intersection(b)\n",
    "print('Number of beers in bottom 10% of avg rating: {}'.format(len(a)))\n",
    "print('Number of beers in bottom 10% of review counts: {}'.format(len(b)))\n",
    "print('Number of beers in both of these categories: {}'.format(len(c)))"
   ]
  },
  {
   "cell_type": "code",
   "execution_count": 140,
   "metadata": {},
   "outputs": [],
   "source": [
    "#remove beers in the bottom 10% lists\n",
    "df1 = merged_df[~merged_df.beer_name.isin(subpar_beers)]\n",
    "df2 = df1[~df1.beer_name.isin(low_rating)]"
   ]
  },
  {
   "cell_type": "code",
   "execution_count": 142,
   "metadata": {},
   "outputs": [
    {
     "name": "stdout",
     "output_type": "stream",
     "text": [
      "<class 'pandas.core.frame.DataFrame'>\n",
      "Int64Index: 1351390 entries, 0 to 188328\n",
      "Data columns (total 3 columns):\n",
      "beer_name    1351390 non-null object\n",
      "user         1351390 non-null object\n",
      "rating       1351390 non-null float64\n",
      "dtypes: float64(1), object(2)\n",
      "memory usage: 41.2+ MB\n"
     ]
    }
   ],
   "source": [
    "df2.info()"
   ]
  },
  {
   "cell_type": "code",
   "execution_count": 146,
   "metadata": {},
   "outputs": [
    {
     "name": "stdout",
     "output_type": "stream",
     "text": [
      "Original number of unique beers: 4964\n",
      "Revised number of unique beers: 3960\n"
     ]
    }
   ],
   "source": [
    "print('Original number of unique beers: {}'.format(len(merged_df.beer_name.unique())))\n",
    "print('Revised number of unique beers: {}'.format(len(df2.beer_name.unique())))"
   ]
  },
  {
   "cell_type": "code",
   "execution_count": 147,
   "metadata": {},
   "outputs": [],
   "source": [
    "merged_df2 = copy.deepcopy(df2)"
   ]
  },
  {
   "cell_type": "markdown",
   "metadata": {},
   "source": [
    "### Buidling the model with Surprise"
   ]
  },
  {
   "cell_type": "markdown",
   "metadata": {},
   "source": [
    "---\n",
    "**From the Surprise Library Documentation**\n",
    "\n",
    "What are raw and inner ids?\n",
    "Users and items have a raw id and an inner id. Some methods will use/return a raw id (e.g. the predict() method), while some other will use/return an inner id.\n",
    "\n",
    "Raw ids are ids as defined in a rating file or in a pandas dataframe. They can be strings or numbers. Note though that if the ratings were read from a file which is the standard scenario, they are represented as strings. This is important to know if you’re using e.g. predict() or other methods that accept raw ids as parameters.\n",
    "\n",
    "On trainset creation, each raw id is mapped to a unique integer called inner id, which is a lot more suitable for Surprise to manipulate. Conversions between raw and inner ids can be done using the to_inner_uid(), to_inner_iid(), to_raw_uid(), and to_raw_iid() methods of the trainset.\n",
    "\n",
    "---\n",
    "\n",
    "  \n",
    "  \n",
    "_The below code creates raw and inner ids for each beer and user_"
   ]
  },
  {
   "cell_type": "code",
   "execution_count": 148,
   "metadata": {},
   "outputs": [],
   "source": [
    "# create beerID for each beer\n",
    "_df = merged_df2.groupby('beer_name').count()\n",
    "dict_ = pd.DataFrame(_df.index)\n",
    "\n",
    "\n",
    "dict_['beerID']=dict_.index\n",
    "dict_df=dict_[['beerID','beer_name']]\n",
    "\n",
    "\n",
    "desc_dict = dict_df.set_index('beer_name').to_dict()\n",
    "new_dict = desc_dict['beerID']\n",
    "\n",
    "merged_df2['beerID'] = merged_df2.beer_name.map(new_dict)\n",
    "\n",
    "\n",
    "\n",
    "# create userID for each user\n",
    "user_df = merged_df2.groupby('user').count()\n",
    "dict_user = pd.DataFrame(user_df.index)\n",
    "\n",
    "\n",
    "dict_user['userID']=dict_user.index\n",
    "dict_user_df=dict_user[['userID','user']] \n",
    "\n",
    "\n",
    "desc_dict_user = dict_user_df.set_index('user').to_dict()\n",
    "new_dict_user = desc_dict_user['userID']\n",
    "\n",
    "merged_df2['userID'] = merged_df2.user.map(new_dict_user)"
   ]
  },
  {
   "cell_type": "markdown",
   "metadata": {},
   "source": [
    "---\n",
    "\n",
    "_Below code was taken from Surpirse Library Documentation  and modified_"
   ]
  },
  {
   "cell_type": "code",
   "execution_count": 149,
   "metadata": {},
   "outputs": [],
   "source": [
    "def read_item_names():\n",
    "    \"\"\"\n",
    "    return two mappings to convert raw ids into beer names \n",
    "    and beer names into raw ids.\n",
    "    \"\"\"\n",
    "\n",
    "    file_name = dict_df\n",
    "    rid_to_name = {}\n",
    "    name_to_rid = {}\n",
    "\n",
    "    # there are 3960 unique beers after removing the low rating and review count beers\n",
    "    for i in range(3960):  \n",
    "        line = file_name.iloc[i]\n",
    "        rid_to_name[line[0]] = line[1]\n",
    "        name_to_rid[line[1]] = line[0]\n",
    "\n",
    "    return rid_to_name, name_to_rid"
   ]
  },
  {
   "cell_type": "code",
   "execution_count": 226,
   "metadata": {},
   "outputs": [],
   "source": [
    "def get_rec(beer_name, k_):\n",
    "    \"\"\"\n",
    "    Input Beer name and returns k recommendations\n",
    "    based on item similarity\n",
    "    \n",
    "    Input: String, integer\n",
    "    Output: String\n",
    "    \"\"\"\n",
    "    output = []\n",
    "    \n",
    "    beer = str(beer_name)\n",
    "#     beer = str(beer_name)+' '\n",
    "    \n",
    "    # Read the mappings raw id <-> beer name\n",
    "    rid_to_name, name_to_rid = read_item_names()\n",
    "\n",
    "    # Retrieve inner id of the Beer\n",
    "    beer_input_raw_id = name_to_rid[beer]\n",
    "    beer_input_inner_id = algo.trainset.to_inner_iid(beer_input_raw_id)\n",
    "\n",
    "    \n",
    "    K = k_\n",
    "    \n",
    "    # Retrieve inner ids of the nearest neighbors of the Beer\n",
    "    beer_input_neighbors = algo.get_neighbors(beer_input_inner_id, k=K)\n",
    "\n",
    "    \n",
    "    # Convert inner ids of the neighbors into names.\n",
    "    beer_input_neighbors = (algo.trainset.to_raw_iid(inner_id)\n",
    "                                for inner_id in beer_input_neighbors)\n",
    "    beer_input_neighbors = (rid_to_name[rid]\n",
    "                                for rid in beer_input_neighbors)\n",
    "\n",
    "#     print('The {} nearest neighbors of {} are:'.format(K,beer_name))\n",
    "    for beer_ in beer_input_neighbors:\n",
    "        output.append(beer_)\n",
    "        \n",
    "    return output"
   ]
  },
  {
   "cell_type": "markdown",
   "metadata": {},
   "source": [
    "Building the model with Surprise using the KNN Baseline algorithm and Pearson Baseline similarity for item-item comparison. In other words, this recommender system is an item based CF recommender that uses a nearest neighbors appproach as oppose to latent factors (SVD). The Similarity is based on Pearson correlation as oppose to cosine distance or MSD. Please check out the Suprise Library documentation for more information: https://surprise.readthedocs.io/en/stable/"
   ]
  },
  {
   "cell_type": "code",
   "execution_count": 152,
   "metadata": {},
   "outputs": [
    {
     "name": "stdout",
     "output_type": "stream",
     "text": [
      "Estimating biases using als...\n",
      "Computing the pearson_baseline similarity matrix...\n",
      "Done computing similarity matrix.\n"
     ]
    },
    {
     "data": {
      "text/plain": [
       "<surprise.prediction_algorithms.knns.KNNBaseline at 0x1a2051edd8>"
      ]
     },
     "execution_count": 152,
     "metadata": {},
     "output_type": "execute_result"
    }
   ],
   "source": [
    "# First, train the algortihm to compute the similarities between items (item-item collaborative filtering)\n",
    "reader = Reader(rating_scale=(1,5))\n",
    "data = Dataset.load_from_df(merged_df2[['userID', 'beerID', 'rating']], reader)\n",
    "trainset = data.build_full_trainset()\n",
    "sim_options = {'name': 'pearson_baseline', 'user_based': False}\n",
    "algo = KNNBaseline(sim_options=sim_options)\n",
    "algo.fit(trainset)"
   ]
  },
  {
   "cell_type": "code",
   "execution_count": 153,
   "metadata": {},
   "outputs": [
    {
     "name": "stderr",
     "output_type": "stream",
     "text": [
      "/anaconda3/lib/python3.6/site-packages/surprise/evaluate.py:66: UserWarning: The evaluate() method is deprecated. Please use model_selection.cross_validate() instead.\n",
      "  'model_selection.cross_validate() instead.', UserWarning)\n",
      "/anaconda3/lib/python3.6/site-packages/surprise/dataset.py:193: UserWarning: Using data.split() or using load_from_folds() without using a CV iterator is now deprecated. \n",
      "  UserWarning)\n"
     ]
    },
    {
     "name": "stdout",
     "output_type": "stream",
     "text": [
      "Evaluating RMSE, MAE of algorithm KNNBaseline.\n",
      "\n",
      "------------\n",
      "Fold 1\n",
      "Estimating biases using als...\n",
      "Computing the pearson_baseline similarity matrix...\n",
      "Done computing similarity matrix.\n",
      "RMSE: 0.4033\n",
      "MAE:  0.2823\n",
      "------------\n",
      "Fold 2\n",
      "Estimating biases using als...\n",
      "Computing the pearson_baseline similarity matrix...\n",
      "Done computing similarity matrix.\n",
      "RMSE: 0.4032\n",
      "MAE:  0.2823\n",
      "------------\n",
      "Fold 3\n",
      "Estimating biases using als...\n",
      "Computing the pearson_baseline similarity matrix...\n",
      "Done computing similarity matrix.\n",
      "RMSE: 0.4047\n",
      "MAE:  0.2837\n",
      "------------\n",
      "Fold 4\n",
      "Estimating biases using als...\n",
      "Computing the pearson_baseline similarity matrix...\n",
      "Done computing similarity matrix.\n",
      "RMSE: 0.4017\n",
      "MAE:  0.2824\n",
      "------------\n",
      "Fold 5\n",
      "Estimating biases using als...\n",
      "Computing the pearson_baseline similarity matrix...\n",
      "Done computing similarity matrix.\n",
      "RMSE: 0.4035\n",
      "MAE:  0.2825\n",
      "------------\n",
      "------------\n",
      "Mean RMSE: 0.4033\n",
      "Mean MAE : 0.2826\n",
      "------------\n",
      "------------\n"
     ]
    },
    {
     "data": {
      "text/plain": [
       "CaseInsensitiveDefaultDict(list,\n",
       "                           {'rmse': [0.4033060264399099,\n",
       "                             0.4031862159727175,\n",
       "                             0.40472510543383383,\n",
       "                             0.4016758268631455,\n",
       "                             0.4034710227747909],\n",
       "                            'mae': [0.282263739946719,\n",
       "                             0.28231484545896524,\n",
       "                             0.2837116079891318,\n",
       "                             0.28240986033679993,\n",
       "                             0.28248927572619553]})"
      ]
     },
     "execution_count": 153,
     "metadata": {},
     "output_type": "execute_result"
    }
   ],
   "source": [
    "# Evaluate the performance using Surprise's evaluation module\n",
    "evaluate(algo, data, measures=['RMSE', 'MAE'])"
   ]
  },
  {
   "cell_type": "markdown",
   "metadata": {},
   "source": [
    "**Note**: the removal of the beers in the bottom 10% of avg rating and review counts improved the RMSE from .41 to .40, in comparison to a previous model using the full list of beers."
   ]
  },
  {
   "cell_type": "markdown",
   "metadata": {},
   "source": [
    "---\n",
    "Lets test out the recommender"
   ]
  },
  {
   "cell_type": "code",
   "execution_count": 259,
   "metadata": {},
   "outputs": [
    {
     "data": {
      "text/plain": [
       "['Two Hearted Ale',\n",
       " 'Pliny The Elder',\n",
       " 'Sculpin IPA',\n",
       " 'Heady Topper',\n",
       " 'Hopslam Ale',\n",
       " 'KBS (Kentucky Breakfast Stout)',\n",
       " 'Bourbon County Brand Stout',\n",
       " 'Old Rasputin',\n",
       " 'Enjoy By IPA',\n",
       " 'Prima Pils',\n",
       " 'Zombie Dust',\n",
       " 'Ten FIDY',\n",
       " \"A Little Sumpin' Sumpin' Ale\",\n",
       " 'Weihenstephaner Hefeweissbier',\n",
       " 'Jai Alai IPA',\n",
       " 'Porter',\n",
       " 'Oberon Ale',\n",
       " 'Bourbon County Brand Coffee Stout',\n",
       " 'Victory At Sea - Coffee And Vanilla',\n",
       " 'The Abyss']"
      ]
     },
     "execution_count": 259,
     "metadata": {},
     "output_type": "execute_result"
    }
   ],
   "source": [
    "# top 20 most rated beers\n",
    "merged_df2.groupby('beer_name').count().sort_values(by='user', ascending =False)[0:20].index.tolist()"
   ]
  },
  {
   "cell_type": "code",
   "execution_count": 260,
   "metadata": {},
   "outputs": [
    {
     "data": {
      "text/plain": [
       "['Kentucky Brunch Brand Stout',\n",
       " 'Derivation Blend #9 (Cinnamon/Maple)',\n",
       " 'Elysium',\n",
       " 'Monster Tones',\n",
       " 'It Was All A Dream',\n",
       " 'Double Tapped',\n",
       " 'I Let My Tape Rock',\n",
       " 'Double Shot - Vanilla',\n",
       " 'Barrel-Aged Abraxas',\n",
       " 'Oude Fermier',\n",
       " 'King Julius',\n",
       " 'Marshmallow Handjee',\n",
       " 'Popinski - Bourbon Barrel-Aged - Peanut Butter And Marshmallow',\n",
       " 'King JJJuliusss',\n",
       " \"Hunahpu's Imperial Stout - Double Barrel Aged\",\n",
       " 'Barrel Aged Imperial German Chocolate Cupcake Stout',\n",
       " 'Chemtrailmix (2018)',\n",
       " 'Very Hazy',\n",
       " 'Heady Topper',\n",
       " 'SR-71']"
      ]
     },
     "execution_count": 260,
     "metadata": {},
     "output_type": "execute_result"
    }
   ],
   "source": [
    "# top 20 highest rating beers\n",
    "merged_df2.groupby('beer_name').mean().sort_values(by='rating', ascending =False)[0:20].index.tolist()"
   ]
  },
  {
   "cell_type": "code",
   "execution_count": 264,
   "metadata": {},
   "outputs": [
    {
     "name": "stdout",
     "output_type": "stream",
     "text": [
      "The 20 nearest neighbors of Kentucky Brunch Brand Stout are:\n"
     ]
    },
    {
     "data": {
      "text/plain": [
       "[\"Mornin' Delight\",\n",
       " 'Light Speed',\n",
       " 'SR-71',\n",
       " 'Grassroots Convivial Suaréz',\n",
       " \"Hunahpu's Imperial Stout - Double Barrel Aged\",\n",
       " 'Framboise Du Fermier',\n",
       " 'Double Dry Hopped Double Mosaic Dream',\n",
       " 'Dortmunder Gold',\n",
       " 'Cask Strawberry',\n",
       " 'Headroom',\n",
       " 'Moat Water',\n",
       " 'Sosus',\n",
       " 'Coffee And Cigarettes',\n",
       " 'Chocolate Rain',\n",
       " 'Black Tuesday - Reserve',\n",
       " 'Bu Weisse',\n",
       " 'Leffe Blonde',\n",
       " 'Assassin',\n",
       " 'Barrel-Aged Silhouette',\n",
       " \"Saint's Devotion\"]"
      ]
     },
     "execution_count": 264,
     "metadata": {},
     "output_type": "execute_result"
    }
   ],
   "source": [
    "print('The 20 nearest neighbors of Kentucky Brunch Brand Stout are:')\n",
    "get_rec('Kentucky Brunch Brand Stout',20)"
   ]
  },
  {
   "cell_type": "code",
   "execution_count": 265,
   "metadata": {},
   "outputs": [
    {
     "name": "stdout",
     "output_type": "stream",
     "text": [
      "The 20 nearest neighbors of Two Hearted Ale are:\n"
     ]
    },
    {
     "data": {
      "text/plain": [
       "['Hopslam Ale',\n",
       " 'Malpais Stout',\n",
       " 'Hacker-Pschorr Munchner Kellerbier (Anno 1417)',\n",
       " 'Sculpin IPA',\n",
       " 'Ella',\n",
       " 'Amber Ale',\n",
       " 'Sumatra Mountain Brown',\n",
       " 'Amalgamator',\n",
       " 'Fade To Black - Volume 1',\n",
       " 'Citra-Pils Keller Bier',\n",
       " 'Smokestack Heritage Porter',\n",
       " 'Hop Program - Beer I',\n",
       " 'Mocha Marlin',\n",
       " '(512) Pecan Porter',\n",
       " 'Ten FIDY - Rum Barrel-Aged',\n",
       " 'Pallet Jack IPA',\n",
       " 'Porter',\n",
       " 'Metric',\n",
       " 'Oberon Ale',\n",
       " 'Christoffel Nobel']"
      ]
     },
     "execution_count": 265,
     "metadata": {},
     "output_type": "execute_result"
    }
   ],
   "source": [
    "print('The 20 nearest neighbors of Two Hearted Ale are:')\n",
    "get_rec('Two Hearted Ale',20)"
   ]
  },
  {
   "cell_type": "code",
   "execution_count": 182,
   "metadata": {},
   "outputs": [],
   "source": [
    "top20rated = merged_df2.groupby('beer_name').count().sort_values(by='user', ascending =False)[0:20].index.tolist()\n",
    "top20rated = set(top20rated)\n",
    "\n",
    "top20rating = merged_df2.groupby('beer_name').mean().sort_values(by='rating', ascending =False)[0:20].index.tolist()\n",
    "top20rating = set(top20rating)\n",
    "\n",
    "kbbs = set(get_rec('Kentucky Brunch Brand Stout',20))\n",
    "tha = set(get_rec('Two Hearted Ale',20))"
   ]
  },
  {
   "cell_type": "code",
   "execution_count": 189,
   "metadata": {},
   "outputs": [
    {
     "name": "stdout",
     "output_type": "stream",
     "text": [
      "set()\n",
      "{'SR-71', \"Hunahpu's Imperial Stout - Double Barrel Aged\"}\n"
     ]
    }
   ],
   "source": [
    "print(kbbs.intersection(top20rated))\n",
    "print(kbbs.intersection(top20rating))"
   ]
  },
  {
   "cell_type": "code",
   "execution_count": 190,
   "metadata": {},
   "outputs": [
    {
     "name": "stdout",
     "output_type": "stream",
     "text": [
      "{'Oberon Ale', 'Porter', 'Hopslam Ale', 'Sculpin IPA'}\n",
      "set()\n"
     ]
    }
   ],
   "source": [
    "print(tha.intersection(top20rated))\n",
    "print(tha.intersection(top20rating))"
   ]
  },
  {
   "cell_type": "markdown",
   "metadata": {},
   "source": [
    "As you can see above, when I inputed the most rated beer (higest review counts), 'Two Hearted Ale', the recommendations only contained four beers that were in the top 20 most rated list. \n",
    "\n",
    "Likewise, when I inputed the highest rating beer (higest average rating), 'Kentucky Brunch Brand Stout', the recommendations only contained 2 beers that were in the top 20 highest ratings list.\n",
    "\n",
    "This is desirable since the goal of collaborative filtering is to find most similar items based on how users rated them, or vice versa, the recommendations should not be giving more of the same beers (in this case, the highest rated beers or the beers with the highest ratings). For best results, a hybrid system that utilizes content-based filtering along with collaborative filtering would be best."
   ]
  },
  {
   "cell_type": "markdown",
   "metadata": {},
   "source": [
    "Testing a couple more:"
   ]
  },
  {
   "cell_type": "code",
   "execution_count": 272,
   "metadata": {},
   "outputs": [],
   "source": [
    "ebi = set(get_rec('Enjoy By IPA',20))\n",
    "mbp = set(get_rec('Maple Bacon Coffee Porter',20))"
   ]
  },
  {
   "cell_type": "code",
   "execution_count": 273,
   "metadata": {},
   "outputs": [
    {
     "name": "stdout",
     "output_type": "stream",
     "text": [
      "{'Sculpin IPA'}\n",
      "set()\n",
      "set()\n",
      "set()\n"
     ]
    }
   ],
   "source": [
    "print(ebi.intersection(top20rated))\n",
    "print(ebi.intersection(top20rating))\n",
    "print(mbp.intersection(top20rated))\n",
    "print(mbp.intersection(top20rating))"
   ]
  },
  {
   "cell_type": "code",
   "execution_count": 266,
   "metadata": {},
   "outputs": [
    {
     "name": "stdout",
     "output_type": "stream",
     "text": [
      "The 20 nearest neighbors of Enjoy By IPA:\n"
     ]
    },
    {
     "data": {
      "text/plain": [
       "{'All Green Everything',\n",
       " 'Black Watch Double Chocolate Milk Stout',\n",
       " 'Blazing World',\n",
       " 'Bright',\n",
       " 'Coriolis',\n",
       " 'Evil Twin',\n",
       " 'G-Bot Double IPA',\n",
       " 'Lunch',\n",
       " 'Ma',\n",
       " 'Mosaic IPA',\n",
       " 'Pallet Jack IPA',\n",
       " 'Pataskala Red X IPA',\n",
       " 'Pilz',\n",
       " 'Project Dank',\n",
       " 'Sculpin IPA',\n",
       " 'Stone / Chris Banker / Insurgente - Xocoveza',\n",
       " 'System Of A Stout',\n",
       " 'The Pupil',\n",
       " 'The Rusty Nail',\n",
       " \"Who You Callin' Wussie\"}"
      ]
     },
     "execution_count": 266,
     "metadata": {},
     "output_type": "execute_result"
    }
   ],
   "source": [
    "print('The 20 nearest neighbors of Enjoy By IPA:')\n",
    "ebi"
   ]
  },
  {
   "cell_type": "code",
   "execution_count": 274,
   "metadata": {},
   "outputs": [
    {
     "name": "stdout",
     "output_type": "stream",
     "text": [
      "The 20 nearest neighbors of Maple Bacon Coffee Porter:\n"
     ]
    },
    {
     "data": {
      "text/plain": [
       "{'Bourbon Barrel Aged Dark Star: Coffee Edition',\n",
       " 'Double Shot',\n",
       " 'Evil Twin',\n",
       " 'Flora Blueberry/Black Currant/Raspberry',\n",
       " 'Framinghammer - Bourbon Barrel-Aged',\n",
       " 'Fyodor',\n",
       " 'HOPSMACK!',\n",
       " 'Last Snow',\n",
       " 'Lunch',\n",
       " 'Madagascar',\n",
       " 'Morning Wood',\n",
       " 'Naughty 90',\n",
       " 'Nib Smuggler',\n",
       " 'Single Shot W/ Vanilla Bean',\n",
       " 'Society & Solitude #5',\n",
       " 'Spencer Trappist Ale',\n",
       " 'Stone / Chris Banker / Insurgente - Xocoveza',\n",
       " 'Weihenstephaner 1516 Kellerbier',\n",
       " \"Wide Awake It's Morning\",\n",
       " 'Winter Ale (5th Anniversary Ale)'}"
      ]
     },
     "execution_count": 274,
     "metadata": {},
     "output_type": "execute_result"
    }
   ],
   "source": [
    "print('The 20 nearest neighbors of Maple Bacon Coffee Porter:')\n",
    "mbp"
   ]
  },
  {
   "cell_type": "markdown",
   "metadata": {},
   "source": [
    "'Enjoy by IPA' is an IPA (Indian Pale Ale) beer. And while the top 20 list for 'Enjoy by IPA' return quite a few other IPAs there were also stouts and an amber ale among others. \n",
    "\n",
    "The top 20 list for 'Maple Bacon Coffee Porter' return a more varied list with porters, stouts, IPA and other ales, although most of these beers tend to be on the heavier side with a higher alcohol content and full bodied.\n",
    "\n",
    "These are desirable results since we want a recommendation engine to give some variety and not just more of the same."
   ]
  },
  {
   "cell_type": "markdown",
   "metadata": {},
   "source": [
    "---\n",
    "\n",
    "### Building a model with sk-learn: latent factors approach"
   ]
  },
  {
   "cell_type": "markdown",
   "metadata": {},
   "source": [
    "Alternatively, we can use a latent factors approach by using a Truncated SVD. The surprise package also have an algorithm for doing SVD instead of the KNN method, however, it would require some deep dive into the code and making some modification in order to be able to run a truncated SVD. The default SVD module does not allow for a truncated SVD. The reason, why a truncated SVD is needed is because a standard SVD would require too much memory and processing power. Given that we have a matrix of about 5K x 88K, it would not be feasible.\n"
   ]
  },
  {
   "cell_type": "code",
   "execution_count": 198,
   "metadata": {},
   "outputs": [],
   "source": [
    "# create pivot table and make it sparse (impute NANs with 0s)\n",
    "merged_df2_pivot = merged_df2.pivot_table(index='user', columns='beer_name', values='rating').fillna(0)"
   ]
  },
  {
   "cell_type": "code",
   "execution_count": 199,
   "metadata": {},
   "outputs": [],
   "source": [
    "#pickle\n",
    "with open('merged_df2_pivot_v2.pkl', 'wb') as f:\n",
    "    pickle.dump(merged_df2_pivot,f)\n",
    "    f.close()\n",
    "\n",
    "# #pickle load\n",
    "# with open('merged_df2_pivot_v2.pkl', 'rb') as f:\n",
    "#     merged_df2_pivot =  pickle.load(f)\n",
    "#     f.close()"
   ]
  },
  {
   "cell_type": "code",
   "execution_count": 201,
   "metadata": {},
   "outputs": [
    {
     "name": "stdout",
     "output_type": "stream",
     "text": [
      "<class 'pandas.core.frame.DataFrame'>\n",
      "Index: 85714 entries, --- to zzurn\n",
      "Columns: 3960 entries, #Merica to Štěpán - český Klasický Ležák Světlý\n",
      "dtypes: float64(3960)\n",
      "memory usage: 2.5+ GB\n"
     ]
    }
   ],
   "source": [
    "merged_df2_pivot.info()"
   ]
  },
  {
   "cell_type": "code",
   "execution_count": 202,
   "metadata": {},
   "outputs": [
    {
     "data": {
      "text/plain": [
       "(3960, 85714)"
      ]
     },
     "execution_count": 202,
     "metadata": {},
     "output_type": "execute_result"
    }
   ],
   "source": [
    "T = merged_df2_pivot.values.T\n",
    "T.shape"
   ]
  },
  {
   "cell_type": "markdown",
   "metadata": {},
   "source": [
    "Using explained variance to determine the number of components for this Truncated SVD"
   ]
  },
  {
   "cell_type": "code",
   "execution_count": 214,
   "metadata": {},
   "outputs": [],
   "source": [
    "def exp_var(list_):\n",
    "    '''\n",
    "    input: list of integers\n",
    "    output: list of tuples showing n_components and it's explained variance ratio\n",
    "    '''\n",
    "    \n",
    "    out = []\n",
    "    \n",
    "    for num in list_:\n",
    "        SVD = TruncatedSVD(n_components=num,random_state=num)\n",
    "        SVD.fit_transform(T)\n",
    "        evar = np.sum(SVD.explained_variance_ratio_)\n",
    "        t = (num,evar)\n",
    "        out.append(t)\n",
    "    \n",
    "    return out"
   ]
  },
  {
   "cell_type": "code",
   "execution_count": 235,
   "metadata": {},
   "outputs": [],
   "source": [
    "n_comp = [5,10,20,50,100,200,300]\n",
    "explained_variance = exp_var(n_comp)"
   ]
  },
  {
   "cell_type": "code",
   "execution_count": 234,
   "metadata": {},
   "outputs": [
    {
     "name": "stdout",
     "output_type": "stream",
     "text": [
      "(5, 0.28244698895151277)\n",
      "(10, 0.3279387126256398)\n",
      "(20, 0.38133299074926386)\n",
      "(50, 0.4746472894055872)\n",
      "(100, 0.5666673880856004)\n",
      "(200, 0.6743565876599937)\n",
      "(300, 0.742360634685447)\n"
     ]
    },
    {
     "data": {
      "text/plain": [
       "[None, None, None, None, None, None, None]"
      ]
     },
     "execution_count": 234,
     "metadata": {},
     "output_type": "execute_result"
    }
   ],
   "source": [
    "[print(i) for i in explained_variance]"
   ]
  },
  {
   "cell_type": "code",
   "execution_count": 216,
   "metadata": {},
   "outputs": [
    {
     "data": {
      "text/plain": [
       "<matplotlib.collections.PathCollection at 0x1a1c0b43c8>"
      ]
     },
     "execution_count": 216,
     "metadata": {},
     "output_type": "execute_result"
    },
    {
     "data": {
      "image/png": "[encoded data removed]",
      "text/plain": [
       "<Figure size 432x288 with 1 Axes>"
      ]
     },
     "metadata": {},
     "output_type": "display_data"
    }
   ],
   "source": [
    "x,y = zip(*explained_variance)\n",
    "plt.scatter(x, y)"
   ]
  },
  {
   "cell_type": "markdown",
   "metadata": {},
   "source": [
    "Based on the above information, I decided to use 200 components for this truncated svd. I believe this is fair given that there is only 3900 unique beers over 56 subcategories, and at 200 components the model captures 2/3 of the explained variance.\n",
    "\n",
    "Each component is a latent feature that a particular beer and user has an affinity to, and given that there is only 3900 beers, you can say that there are 20 (3900 divide by 200) beers per latent factor. \n",
    "\n",
    "Another way to think about this is to think about how many differnt ways you can classify or describe the types of beers that are avaiable. Even within the 56 subcategories, many of these subcategories are very similar to one another, most people probably wouldn't be able to tell the difference. However, these latent factors encapsulate features that are hard to explain. For example, a particular latent factor could be charaterized as \"slightly hoppy + low alcohol content + light bodied + high carbonation\" or a particular subcategory. \n",
    "\n",
    "Therefore, if you think about the different criterias of charterizing beers, they may be:\n",
    "* bitterness/hoppines\n",
    "* sweetness level\n",
    "* carbonation level\n",
    "* nose/aroma \n",
    "* body of the beer\n",
    "\n",
    "Lets say there are 3 levels for each criteria (high,mid,low), then there are 243 combinations (3 to the 5th power) - and that is assuming each criteria is independent of each other which is not the case (hoppy beers tend to have a strong aroma, sweeter beers have a full body). \n",
    "\n",
    "---\n",
    "\n",
    "Create the 200 component Truncated SVD"
   ]
  },
  {
   "cell_type": "code",
   "execution_count": 219,
   "metadata": {},
   "outputs": [
    {
     "data": {
      "text/plain": [
       "(3960, 200)"
      ]
     },
     "execution_count": 219,
     "metadata": {},
     "output_type": "execute_result"
    }
   ],
   "source": [
    "SVD200 = TruncatedSVD(n_components=200,random_state=200)\n",
    "matrix200 = SVD200.fit_transform(T)\n",
    "matrix200.shape"
   ]
  },
  {
   "cell_type": "code",
   "execution_count": 220,
   "metadata": {},
   "outputs": [
    {
     "data": {
      "text/plain": [
       "(3960, 3960)"
      ]
     },
     "execution_count": 220,
     "metadata": {},
     "output_type": "execute_result"
    }
   ],
   "source": [
    "# correlation/similarity matrix\n",
    "corr200 = np.corrcoef(matrix200)\n",
    "corr200.shape"
   ]
  },
  {
   "cell_type": "code",
   "execution_count": 221,
   "metadata": {},
   "outputs": [],
   "source": [
    "# #pickle dump\n",
    "# with open('matrix200.pkl', 'wb') as f:\n",
    "#     pickle.dump(matrix200,f)\n",
    "#     f.close()\n",
    "    \n",
    "# with open('corr200.pkl', 'wb') as f:\n",
    "#     pickle.dump(corr200,f)\n",
    "#     f.close()\n",
    "\n",
    "# # pickle load\n",
    "# with open('matrix200.pkl', 'rb') as f:\n",
    "#     matrix200 = pickle.load(f)\n",
    "#     f.close()\n",
    "    \n",
    "# with open('corr200.pkl', 'rb') as f:\n",
    "#     corr200 = pickle.load(f)\n",
    "#     f.close()\n"
   ]
  },
  {
   "cell_type": "code",
   "execution_count": 222,
   "metadata": {},
   "outputs": [],
   "source": [
    "# name of all beers\n",
    "beer_rec_names200 = merged_df2_pivot.columns\n",
    "\n",
    "# list of all beer names\n",
    "beer_rec_list200 = list(beer_rec_names200)"
   ]
  },
  {
   "cell_type": "code",
   "execution_count": 223,
   "metadata": {},
   "outputs": [],
   "source": [
    "def svd200_recs(string,n):\n",
    "    \"\"\"\n",
    "    function returns top n recommendations base on input of beer name and n.\n",
    "    \n",
    "    inputs: \n",
    "    string (name of beer) -> string\n",
    "    n (n recommendations) ->  int\n",
    "    \"\"\"\n",
    "    \n",
    "    # get index of beer name from list of all beers in the training data\n",
    "    get_index = beer_rec_list200.index(string)\n",
    "    \n",
    "    # similarity coeff of all other beers w respect to the input beer\n",
    "    similarities = corr200[get_index]\n",
    "    \n",
    "    # create  & popluate list to hold tuples of beer names and their respective correlation coeff, sorted in reverse\n",
    "    closest = []    \n",
    "    for idx, coeff in enumerate(similarities):\n",
    "        closest.append((beer_rec_list200[idx],coeff))\n",
    "    \n",
    "    closest.sort(key=lambda x: x[1], reverse=True)\n",
    "    \n",
    "    out = []\n",
    "#     print('Top {} recommendations are:\\n'.format(n))\n",
    "    for i in range(1,n+1):\n",
    "#         print(closest[i][0], '\\n', closest[i][1])\n",
    "        out.append(closest[i][0])\n",
    "    return out"
   ]
  },
  {
   "cell_type": "markdown",
   "metadata": {},
   "source": [
    "Lets get the top 20 recommendations for the same beers we looked at earlier"
   ]
  },
  {
   "cell_type": "code",
   "execution_count": 224,
   "metadata": {
    "collapsed": true
   },
   "outputs": [
    {
     "data": {
      "text/plain": [
       "['Assassin',\n",
       " 'SR-71',\n",
       " \"Mornin' Delight\",\n",
       " 'Barrel-Aged Abraxas',\n",
       " \"Hunahpu's Imperial Stout - Double Barrel Aged\",\n",
       " 'Barrel-Aged Sump Coffee Stout',\n",
       " 'Saison Du Fermier',\n",
       " 'Beer Geek Vanilla Shake - Bourbon Barrel-Aged',\n",
       " 'Framboise Du Fermier',\n",
       " 'Coffee Abraxas',\n",
       " 'Beyond Good And Evil',\n",
       " 'Pugachev Royale',\n",
       " 'Marshmallow Handjee',\n",
       " 'Abricot Du Fermier',\n",
       " 'Barrel-Aged Silhouette',\n",
       " 'Grande Negro Voodoo Papi - Bourbon Barrel-Aged',\n",
       " 'DFPF',\n",
       " 'Maman',\n",
       " 'Sosus',\n",
       " 'Speedway Stout - Vietnamese Coffee - Bourbon-Barrel Aged']"
      ]
     },
     "execution_count": 224,
     "metadata": {},
     "output_type": "execute_result"
    }
   ],
   "source": [
    "svd200_recs('Kentucky Brunch Brand Stout',20)"
   ]
  },
  {
   "cell_type": "code",
   "execution_count": 229,
   "metadata": {},
   "outputs": [
    {
     "name": "stdout",
     "output_type": "stream",
     "text": [
      "common beers: {'Framboise Du Fermier', 'SR-71', \"Mornin' Delight\", \"Hunahpu's Imperial Stout - Double Barrel Aged\", 'Barrel-Aged Silhouette', 'Sosus', 'Assassin'}\n",
      "number of common beers: 7\n"
     ]
    }
   ],
   "source": [
    "# Latent Factors method\n",
    "A = set(svd200_recs('Kentucky Brunch Brand Stout',20))\n",
    "\n",
    "# Neighborhood method\n",
    "B = set(get_rec('Kentucky Brunch Brand Stout',20))\n",
    "\n",
    "print('common beers: {}'.format(A.intersection(B)))\n",
    "print('number of common beers: {}'.format(len(A.intersection(B))))"
   ]
  },
  {
   "cell_type": "code",
   "execution_count": 230,
   "metadata": {
    "collapsed": true
   },
   "outputs": [
    {
     "data": {
      "text/plain": [
       "['Hopslam Ale',\n",
       " 'Oberon Ale',\n",
       " 'Sculpin IPA',\n",
       " 'Enjoy By IPA',\n",
       " 'Ten FIDY',\n",
       " 'Jai Alai IPA',\n",
       " 'KBS (Kentucky Breakfast Stout)',\n",
       " 'Old Rasputin',\n",
       " 'Porter',\n",
       " 'Alpha King',\n",
       " 'Bourbon County Brand Stout',\n",
       " 'Edmund Fitzgerald Porter',\n",
       " 'Harvest Ale',\n",
       " \"A Little Sumpin' Sumpin' Ale\",\n",
       " 'Gumballhead',\n",
       " 'Victory At Sea - Coffee And Vanilla',\n",
       " 'Dreadnaught IPA',\n",
       " 'Furious',\n",
       " 'Zombie Dust',\n",
       " 'Pliny The Elder']"
      ]
     },
     "execution_count": 230,
     "metadata": {},
     "output_type": "execute_result"
    }
   ],
   "source": [
    "svd200_recs('Two Hearted Ale',20)"
   ]
  },
  {
   "cell_type": "code",
   "execution_count": 231,
   "metadata": {},
   "outputs": [
    {
     "name": "stdout",
     "output_type": "stream",
     "text": [
      "common beers: {'Oberon Ale', 'Porter', 'Hopslam Ale', 'Sculpin IPA'}\n",
      "number of common beers: 4\n"
     ]
    }
   ],
   "source": [
    "A = set(svd200_recs('Two Hearted Ale',20))\n",
    "B = set(get_rec('Two Hearted Ale',20))\n",
    "print('common beers: {}'.format(A.intersection(B)))\n",
    "print('number of common beers: {}'.format(len(A.intersection(B))))"
   ]
  },
  {
   "cell_type": "code",
   "execution_count": 236,
   "metadata": {},
   "outputs": [
    {
     "name": "stdout",
     "output_type": "stream",
     "text": [
      "common beers: {'Lunch', 'Sculpin IPA'}\n",
      "number of common beers: 2\n"
     ]
    }
   ],
   "source": [
    "A = set(svd200_recs('Enjoy By IPA',20))\n",
    "B = set(get_rec('Enjoy By IPA',20))\n",
    "print('common beers: {}'.format(A.intersection(B)))\n",
    "print('number of common beers: {}'.format(len(A.intersection(B))))"
   ]
  },
  {
   "cell_type": "code",
   "execution_count": 237,
   "metadata": {},
   "outputs": [
    {
     "name": "stdout",
     "output_type": "stream",
     "text": [
      "common beers: {'Moe Beer', 'Acerbic Ecstasy'}\n",
      "number of common beers: 2\n"
     ]
    }
   ],
   "source": [
    "A = set(svd200_recs('Elysium',20))\n",
    "B = set(get_rec('Elysium',20))\n",
    "print('common beers: {}'.format(A.intersection(B)))\n",
    "print('number of common beers: {}'.format(len(A.intersection(B))))"
   ]
  },
  {
   "cell_type": "markdown",
   "metadata": {},
   "source": [
    "#### Comparing the two different Method: LF vs KNN"
   ]
  },
  {
   "cell_type": "code",
   "execution_count": 255,
   "metadata": {},
   "outputs": [],
   "source": [
    "def compare_recs(name_list,n):\n",
    "\n",
    "    '''\n",
    "    inputs: \n",
    "    name_list(list of beer names) -> list\n",
    "    n (number of recommendations) -> integer\n",
    "    \n",
    "    output: \n",
    "    graph showing the number of common beers between two different CF methods for each of the input beer\n",
    "    \n",
    "    '''\n",
    "    results = []\n",
    "    \n",
    "    for idx, name in enumerate(name_list):\n",
    "        svd = set(svd200_recs(name,n))\n",
    "        knn = set(get_rec(name,n))\n",
    "        common = len(svd.intersection(knn))\n",
    "        tup = (idx, common)\n",
    "        results.append(tup)\n",
    "    \n",
    "    x,y = zip(*results)\n",
    "    plt.scatter(x, y)\n",
    "    plt.xlabel('Beer No.')\n",
    "    plt.ylabel('Common Recs')\n",
    "    plt.show()"
   ]
  },
  {
   "cell_type": "code",
   "execution_count": 251,
   "metadata": {},
   "outputs": [],
   "source": [
    "# select every 40 beers from highest avg rating to lowest avg rating\n",
    "namelist = merged_df2.groupby('beer_name').mean().sort_values(by='rating', ascending =False)[::40].index.tolist()"
   ]
  },
  {
   "cell_type": "code",
   "execution_count": 256,
   "metadata": {},
   "outputs": [
    {
     "data": {
      "image/png": "[encoded data removed]",
      "text/plain": [
       "<Figure size 432x288 with 1 Axes>"
      ]
     },
     "metadata": {},
     "output_type": "display_data"
    }
   ],
   "source": [
    "compare_recs(namelist,50)"
   ]
  },
  {
   "cell_type": "markdown",
   "metadata": {},
   "source": [
    "The above graph shows the number of common closest beers or top recommendations from both the SVD and the nearest neighbors models for a sample of 99 beers (ranging from highest ratings to lowest ratings). As you can see, out of the top 50 closest beers, the amount of overlap between the two methods ranges from 0 to 15 which translates to 0-30%. So the two different methods returns very different results and this is expected because a SVD captures relationships that the a nearest neighbor approach does not.  "
   ]
  },
  {
   "cell_type": "markdown",
   "metadata": {},
   "source": [
    "---\n",
    "\n",
    "**Conclusion:**\n",
    "\n",
    "Building a collaborative filtering recommender system can be quite simple. The Surprise Library is a great module to use. You can use a neighbors appraoch (KNN) or a latent factors approach (SVD). Both methods may yield very differnt results, however, this may actually be a good thing as you can combine both results to create a hybrid recommeder system. Collaborative filtering is great if you want your recommendation engine to provide diverse or varied results. Otherwise you can just use a content-based recommender, which in this case would recommend mostly beers within the same subcategory. Combining results from two or all three (content-based, KNN, SVD) would probably be your best bet.    "
   ]
  },
  {
   "cell_type": "code",
   "execution_count": null,
   "metadata": {},
   "outputs": [],
   "source": []
  }
 ],
 "metadata": {
  "kernelspec": {
   "display_name": "Python 3",
   "language": "python",
   "name": "python3"
  },
  "language_info": {
   "codemirror_mode": {
    "name": "ipython",
    "version": 3
   },
   "file_extension": ".py",
   "mimetype": "text/x-python",
   "name": "python",
   "nbconvert_exporter": "python",
   "pygments_lexer": "ipython3",
   "version": "3.6.8"
  }
 },
 "nbformat": 4,
 "nbformat_minor": 2
}
